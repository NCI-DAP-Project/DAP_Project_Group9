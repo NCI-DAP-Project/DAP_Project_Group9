{
 "cells": [
  {
   "cell_type": "markdown",
   "id": "9bc981ee",
   "metadata": {},
   "source": [
    "# Database & Analytics Programming CA2 (Data Visualisation)"
   ]
  },
  {
   "cell_type": "markdown",
   "id": "e37920b4",
   "metadata": {},
   "source": [
    "Dataset - Medicaid Beneficiaries, Inpatient Admissions and Emergency Room Visits by Zip Code: Beginning 2012"
   ]
  },
  {
   "cell_type": "code",
   "execution_count": 69,
   "id": "93cb4985",
   "metadata": {},
   "outputs": [],
   "source": [
    "#Importing libraries\n",
    "\n",
    "import pymongo\n",
    "import numpy as np\n",
    "import pandas as pd\n",
    "from pymongo import MongoClient\n",
    "import psycopg2\n",
    "import matplotlib.pyplot as plt\n",
    "import seaborn as sns\n",
    "from sqlalchemy import create_engine"
   ]
  },
  {
   "cell_type": "code",
   "execution_count": 70,
   "id": "3e34d338",
   "metadata": {},
   "outputs": [],
   "source": [
    "#establishing the connection\n",
    "conn = psycopg2.connect(\n",
    "   database=\"dap_new\", user='postgres', password='@Coolaayush1', host='127.0.0.1', port= '5432'\n",
    ")\n",
    "conn.autocommit = True\n",
    "\n",
    "#Creating a cursor object using the cursor() method\n",
    "cursor = conn.cursor()"
   ]
  },
  {
   "cell_type": "code",
   "execution_count": 71,
   "id": "458a2895",
   "metadata": {},
   "outputs": [],
   "source": [
    "#Execute the query\n",
    "cursor.execute(\"SELECT * FROM public.medicare;\") "
   ]
  },
  {
   "cell_type": "code",
   "execution_count": 73,
   "id": "2ddcc046",
   "metadata": {},
   "outputs": [],
   "source": [
    "# cursor.fetchall()\n",
    "column_names=['_id', 'year', 'zip_code', 'county', 'total_n', 'dual_n', 'nondual_n',\n",
    "       'child_n', 'adult_n', 'dual_recip_admit', 'dual_admits',\n",
    "       'nondual_recip_admit', 'nondual_admits', 'recip_admit', 'total_admits',\n",
    "       'dual_er_recip', 'dual_er_visits', 'nondual_er_recip',\n",
    "       'nondual_er_visits', 'all_er_recip', 'all_er_visits']"
   ]
  },
  {
   "cell_type": "code",
   "execution_count": 74,
   "id": "3180720e",
   "metadata": {
    "scrolled": true
   },
   "outputs": [
    {
     "data": {
      "text/html": [
       "<div>\n",
       "<style scoped>\n",
       "    .dataframe tbody tr th:only-of-type {\n",
       "        vertical-align: middle;\n",
       "    }\n",
       "\n",
       "    .dataframe tbody tr th {\n",
       "        vertical-align: top;\n",
       "    }\n",
       "\n",
       "    .dataframe thead th {\n",
       "        text-align: right;\n",
       "    }\n",
       "</style>\n",
       "<table border=\"1\" class=\"dataframe\">\n",
       "  <thead>\n",
       "    <tr style=\"text-align: right;\">\n",
       "      <th></th>\n",
       "      <th>_id</th>\n",
       "      <th>year</th>\n",
       "      <th>zip_code</th>\n",
       "      <th>county</th>\n",
       "      <th>total_n</th>\n",
       "      <th>dual_n</th>\n",
       "      <th>nondual_n</th>\n",
       "      <th>child_n</th>\n",
       "      <th>adult_n</th>\n",
       "      <th>dual_recip_admit</th>\n",
       "      <th>...</th>\n",
       "      <th>nondual_recip_admit</th>\n",
       "      <th>nondual_admits</th>\n",
       "      <th>recip_admit</th>\n",
       "      <th>total_admits</th>\n",
       "      <th>dual_er_recip</th>\n",
       "      <th>dual_er_visits</th>\n",
       "      <th>nondual_er_recip</th>\n",
       "      <th>nondual_er_visits</th>\n",
       "      <th>all_er_recip</th>\n",
       "      <th>all_er_visits</th>\n",
       "    </tr>\n",
       "  </thead>\n",
       "  <tbody>\n",
       "    <tr>\n",
       "      <th>0</th>\n",
       "      <td>63a22c7e5c3567850d811756</td>\n",
       "      <td>2012</td>\n",
       "      <td>06390</td>\n",
       "      <td>Suffolk                                       ...</td>\n",
       "      <td>4</td>\n",
       "      <td>1</td>\n",
       "      <td>3</td>\n",
       "      <td>1</td>\n",
       "      <td>3</td>\n",
       "      <td>1</td>\n",
       "      <td>...</td>\n",
       "      <td>0</td>\n",
       "      <td>0</td>\n",
       "      <td>1</td>\n",
       "      <td>1</td>\n",
       "      <td>0</td>\n",
       "      <td>0</td>\n",
       "      <td>0</td>\n",
       "      <td>0</td>\n",
       "      <td>0</td>\n",
       "      <td>0</td>\n",
       "    </tr>\n",
       "    <tr>\n",
       "      <th>1</th>\n",
       "      <td>63a22c7e5c3567850d811757</td>\n",
       "      <td>2012</td>\n",
       "      <td>10001</td>\n",
       "      <td>New York                                      ...</td>\n",
       "      <td>10704</td>\n",
       "      <td>2478</td>\n",
       "      <td>8226</td>\n",
       "      <td>1065</td>\n",
       "      <td>9639</td>\n",
       "      <td>547</td>\n",
       "      <td>...</td>\n",
       "      <td>1712</td>\n",
       "      <td>4774</td>\n",
       "      <td>2259</td>\n",
       "      <td>5691</td>\n",
       "      <td>605</td>\n",
       "      <td>1391</td>\n",
       "      <td>2594</td>\n",
       "      <td>9013</td>\n",
       "      <td>3199</td>\n",
       "      <td>10404</td>\n",
       "    </tr>\n",
       "    <tr>\n",
       "      <th>2</th>\n",
       "      <td>63a22c7e5c3567850d811758</td>\n",
       "      <td>2012</td>\n",
       "      <td>10002</td>\n",
       "      <td>New York                                      ...</td>\n",
       "      <td>58639</td>\n",
       "      <td>10748</td>\n",
       "      <td>47891</td>\n",
       "      <td>13857</td>\n",
       "      <td>44782</td>\n",
       "      <td>1506</td>\n",
       "      <td>...</td>\n",
       "      <td>3632</td>\n",
       "      <td>5298</td>\n",
       "      <td>5138</td>\n",
       "      <td>7268</td>\n",
       "      <td>1173</td>\n",
       "      <td>2083</td>\n",
       "      <td>6571</td>\n",
       "      <td>12674</td>\n",
       "      <td>7744</td>\n",
       "      <td>14757</td>\n",
       "    </tr>\n",
       "    <tr>\n",
       "      <th>3</th>\n",
       "      <td>63a22c7e5c3567850d811759</td>\n",
       "      <td>2012</td>\n",
       "      <td>10003</td>\n",
       "      <td>New York                                      ...</td>\n",
       "      <td>4668</td>\n",
       "      <td>1163</td>\n",
       "      <td>3505</td>\n",
       "      <td>598</td>\n",
       "      <td>4070</td>\n",
       "      <td>190</td>\n",
       "      <td>...</td>\n",
       "      <td>595</td>\n",
       "      <td>1630</td>\n",
       "      <td>785</td>\n",
       "      <td>1936</td>\n",
       "      <td>155</td>\n",
       "      <td>328</td>\n",
       "      <td>1002</td>\n",
       "      <td>2810</td>\n",
       "      <td>1157</td>\n",
       "      <td>3138</td>\n",
       "    </tr>\n",
       "    <tr>\n",
       "      <th>4</th>\n",
       "      <td>63a22c7e5c3567850d81175a</td>\n",
       "      <td>2012</td>\n",
       "      <td>10004</td>\n",
       "      <td>New York                                      ...</td>\n",
       "      <td>635</td>\n",
       "      <td>268</td>\n",
       "      <td>367</td>\n",
       "      <td>36</td>\n",
       "      <td>599</td>\n",
       "      <td>47</td>\n",
       "      <td>...</td>\n",
       "      <td>92</td>\n",
       "      <td>206</td>\n",
       "      <td>139</td>\n",
       "      <td>276</td>\n",
       "      <td>85</td>\n",
       "      <td>255</td>\n",
       "      <td>134</td>\n",
       "      <td>372</td>\n",
       "      <td>219</td>\n",
       "      <td>627</td>\n",
       "    </tr>\n",
       "    <tr>\n",
       "      <th>...</th>\n",
       "      <td>...</td>\n",
       "      <td>...</td>\n",
       "      <td>...</td>\n",
       "      <td>...</td>\n",
       "      <td>...</td>\n",
       "      <td>...</td>\n",
       "      <td>...</td>\n",
       "      <td>...</td>\n",
       "      <td>...</td>\n",
       "      <td>...</td>\n",
       "      <td>...</td>\n",
       "      <td>...</td>\n",
       "      <td>...</td>\n",
       "      <td>...</td>\n",
       "      <td>...</td>\n",
       "      <td>...</td>\n",
       "      <td>...</td>\n",
       "      <td>...</td>\n",
       "      <td>...</td>\n",
       "      <td>...</td>\n",
       "      <td>...</td>\n",
       "    </tr>\n",
       "    <tr>\n",
       "      <th>6329</th>\n",
       "      <td>63a22c7e5c3567850d81300f</td>\n",
       "      <td>2014</td>\n",
       "      <td>14902</td>\n",
       "      <td>Chemung                                       ...</td>\n",
       "      <td>528</td>\n",
       "      <td>146</td>\n",
       "      <td>382</td>\n",
       "      <td>128</td>\n",
       "      <td>400</td>\n",
       "      <td>28</td>\n",
       "      <td>...</td>\n",
       "      <td>27</td>\n",
       "      <td>64</td>\n",
       "      <td>55</td>\n",
       "      <td>101</td>\n",
       "      <td>55</td>\n",
       "      <td>166</td>\n",
       "      <td>97</td>\n",
       "      <td>283</td>\n",
       "      <td>152</td>\n",
       "      <td>449</td>\n",
       "    </tr>\n",
       "    <tr>\n",
       "      <th>6330</th>\n",
       "      <td>63a22c7e5c3567850d813010</td>\n",
       "      <td>2014</td>\n",
       "      <td>14903</td>\n",
       "      <td>Chemung                                       ...</td>\n",
       "      <td>1900</td>\n",
       "      <td>343</td>\n",
       "      <td>1557</td>\n",
       "      <td>619</td>\n",
       "      <td>1281</td>\n",
       "      <td>44</td>\n",
       "      <td>...</td>\n",
       "      <td>155</td>\n",
       "      <td>218</td>\n",
       "      <td>199</td>\n",
       "      <td>272</td>\n",
       "      <td>89</td>\n",
       "      <td>247</td>\n",
       "      <td>520</td>\n",
       "      <td>1032</td>\n",
       "      <td>609</td>\n",
       "      <td>1279</td>\n",
       "    </tr>\n",
       "    <tr>\n",
       "      <th>6331</th>\n",
       "      <td>63a22c7e5c3567850d813011</td>\n",
       "      <td>2014</td>\n",
       "      <td>14904</td>\n",
       "      <td>Chemung                                       ...</td>\n",
       "      <td>6993</td>\n",
       "      <td>995</td>\n",
       "      <td>5998</td>\n",
       "      <td>2529</td>\n",
       "      <td>4464</td>\n",
       "      <td>159</td>\n",
       "      <td>...</td>\n",
       "      <td>622</td>\n",
       "      <td>831</td>\n",
       "      <td>781</td>\n",
       "      <td>1054</td>\n",
       "      <td>312</td>\n",
       "      <td>871</td>\n",
       "      <td>2219</td>\n",
       "      <td>4951</td>\n",
       "      <td>2531</td>\n",
       "      <td>5822</td>\n",
       "    </tr>\n",
       "    <tr>\n",
       "      <th>6332</th>\n",
       "      <td>63a22c7e5c3567850d813012</td>\n",
       "      <td>2014</td>\n",
       "      <td>14905</td>\n",
       "      <td>Chemung                                       ...</td>\n",
       "      <td>1961</td>\n",
       "      <td>287</td>\n",
       "      <td>1674</td>\n",
       "      <td>681</td>\n",
       "      <td>1280</td>\n",
       "      <td>43</td>\n",
       "      <td>...</td>\n",
       "      <td>143</td>\n",
       "      <td>201</td>\n",
       "      <td>186</td>\n",
       "      <td>257</td>\n",
       "      <td>64</td>\n",
       "      <td>171</td>\n",
       "      <td>582</td>\n",
       "      <td>1322</td>\n",
       "      <td>646</td>\n",
       "      <td>1493</td>\n",
       "    </tr>\n",
       "    <tr>\n",
       "      <th>6333</th>\n",
       "      <td>63a22c7e5c3567850d813013</td>\n",
       "      <td>2014</td>\n",
       "      <td>14925</td>\n",
       "      <td>Chemung                                       ...</td>\n",
       "      <td>1</td>\n",
       "      <td>1</td>\n",
       "      <td>0</td>\n",
       "      <td>0</td>\n",
       "      <td>1</td>\n",
       "      <td>0</td>\n",
       "      <td>...</td>\n",
       "      <td>0</td>\n",
       "      <td>0</td>\n",
       "      <td>0</td>\n",
       "      <td>0</td>\n",
       "      <td>1</td>\n",
       "      <td>4</td>\n",
       "      <td>0</td>\n",
       "      <td>0</td>\n",
       "      <td>1</td>\n",
       "      <td>4</td>\n",
       "    </tr>\n",
       "  </tbody>\n",
       "</table>\n",
       "<p>6334 rows × 21 columns</p>\n",
       "</div>"
      ],
      "text/plain": [
       "                           _id        year    zip_code  \\\n",
       "0     63a22c7e5c3567850d811756  2012        06390        \n",
       "1     63a22c7e5c3567850d811757  2012        10001        \n",
       "2     63a22c7e5c3567850d811758  2012        10002        \n",
       "3     63a22c7e5c3567850d811759  2012        10003        \n",
       "4     63a22c7e5c3567850d81175a  2012        10004        \n",
       "...                        ...         ...         ...   \n",
       "6329  63a22c7e5c3567850d81300f  2014        14902        \n",
       "6330  63a22c7e5c3567850d813010  2014        14903        \n",
       "6331  63a22c7e5c3567850d813011  2014        14904        \n",
       "6332  63a22c7e5c3567850d813012  2014        14905        \n",
       "6333  63a22c7e5c3567850d813013  2014        14925        \n",
       "\n",
       "                                                 county     total_n  \\\n",
       "0     Suffolk                                       ...  4            \n",
       "1     New York                                      ...  10704        \n",
       "2     New York                                      ...  58639        \n",
       "3     New York                                      ...  4668         \n",
       "4     New York                                      ...  635          \n",
       "...                                                 ...         ...   \n",
       "6329  Chemung                                       ...  528          \n",
       "6330  Chemung                                       ...  1900         \n",
       "6331  Chemung                                       ...  6993         \n",
       "6332  Chemung                                       ...  1961         \n",
       "6333  Chemung                                       ...  1            \n",
       "\n",
       "          dual_n   nondual_n     child_n     adult_n dual_recip_admit  ...  \\\n",
       "0     1           3           1           3                1           ...   \n",
       "1     2478        8226        1065        9639             547         ...   \n",
       "2     10748       47891       13857       44782            1506        ...   \n",
       "3     1163        3505        598         4070             190         ...   \n",
       "4     268         367         36          599              47          ...   \n",
       "...          ...         ...         ...         ...              ...  ...   \n",
       "6329  146         382         128         400              28          ...   \n",
       "6330  343         1557        619         1281             44          ...   \n",
       "6331  995         5998        2529        4464             159         ...   \n",
       "6332  287         1674        681         1280             43          ...   \n",
       "6333  1           0           0           1                0           ...   \n",
       "\n",
       "     nondual_recip_admit nondual_admits recip_admit total_admits  \\\n",
       "0             0              0           1            1            \n",
       "1             1712           4774        2259         5691         \n",
       "2             3632           5298        5138         7268         \n",
       "3             595            1630        785          1936         \n",
       "4             92             206         139          276          \n",
       "...                  ...            ...         ...          ...   \n",
       "6329          27             64          55           101          \n",
       "6330          155            218         199          272          \n",
       "6331          622            831         781          1054         \n",
       "6332          143            201         186          257          \n",
       "6333          0              0           0            0            \n",
       "\n",
       "     dual_er_recip dual_er_visits nondual_er_recip nondual_er_visits  \\\n",
       "0       0              0                0                 0            \n",
       "1       605            1391             2594              9013         \n",
       "2       1173           2083             6571              12674        \n",
       "3       155            328              1002              2810         \n",
       "4       85             255              134               372          \n",
       "...            ...            ...              ...               ...   \n",
       "6329    55             166              97                283          \n",
       "6330    89             247              520               1032         \n",
       "6331    312            871              2219              4951         \n",
       "6332    64             171              582               1322         \n",
       "6333    1              4                0                 0            \n",
       "\n",
       "     all_er_recip all_er_visits  \n",
       "0      0             0           \n",
       "1      3199          10404       \n",
       "2      7744          14757       \n",
       "3      1157          3138        \n",
       "4      219           627         \n",
       "...           ...           ...  \n",
       "6329   152           449         \n",
       "6330   609           1279        \n",
       "6331   2531          5822        \n",
       "6332   646           1493        \n",
       "6333   1             4           \n",
       "\n",
       "[6334 rows x 21 columns]"
      ]
     },
     "execution_count": 74,
     "metadata": {},
     "output_type": "execute_result"
    }
   ],
   "source": [
    "medicare_df=pd.DataFrame(cursor.fetchall(),columns=column_names)\n",
    "medicare_df"
   ]
  },
  {
   "cell_type": "code",
   "execution_count": 76,
   "id": "e4654e0d",
   "metadata": {
    "scrolled": true
   },
   "outputs": [
    {
     "name": "stdout",
     "output_type": "stream",
     "text": [
      "<class 'pandas.core.frame.DataFrame'>\n",
      "RangeIndex: 6334 entries, 0 to 6333\n",
      "Data columns (total 21 columns):\n",
      " #   Column               Non-Null Count  Dtype \n",
      "---  ------               --------------  ----- \n",
      " 0   _id                  6334 non-null   object\n",
      " 1   year                 6334 non-null   object\n",
      " 2   zip_code             6334 non-null   object\n",
      " 3   county               6334 non-null   object\n",
      " 4   total_n              6334 non-null   object\n",
      " 5   dual_n               6334 non-null   object\n",
      " 6   nondual_n            6334 non-null   object\n",
      " 7   child_n              6334 non-null   object\n",
      " 8   adult_n              6334 non-null   object\n",
      " 9   dual_recip_admit     6334 non-null   object\n",
      " 10  dual_admits          6334 non-null   object\n",
      " 11  nondual_recip_admit  6334 non-null   object\n",
      " 12  nondual_admits       6334 non-null   object\n",
      " 13  recip_admit          6334 non-null   object\n",
      " 14  total_admits         6334 non-null   object\n",
      " 15  dual_er_recip        6334 non-null   object\n",
      " 16  dual_er_visits       6334 non-null   object\n",
      " 17  nondual_er_recip     6334 non-null   object\n",
      " 18  nondual_er_visits    6334 non-null   object\n",
      " 19  all_er_recip         6334 non-null   object\n",
      " 20  all_er_visits        6334 non-null   object\n",
      "dtypes: object(21)\n",
      "memory usage: 1.0+ MB\n"
     ]
    }
   ],
   "source": [
    "medicare_df.info()"
   ]
  },
  {
   "cell_type": "markdown",
   "id": "e152a7a8",
   "metadata": {},
   "source": [
    "# Data Visualisation"
   ]
  },
  {
   "cell_type": "code",
   "execution_count": 83,
   "id": "1b2e9466",
   "metadata": {},
   "outputs": [
    {
     "name": "stdout",
     "output_type": "stream",
     "text": [
      "<class 'pandas.core.frame.DataFrame'>\n",
      "RangeIndex: 6334 entries, 0 to 6333\n",
      "Data columns (total 21 columns):\n",
      " #   Column               Non-Null Count  Dtype \n",
      "---  ------               --------------  ----- \n",
      " 0   _id                  6334 non-null   object\n",
      " 1   year                 6334 non-null   object\n",
      " 2   zip_code             6334 non-null   object\n",
      " 3   county               6334 non-null   object\n",
      " 4   total_n              6334 non-null   object\n",
      " 5   dual_n               6334 non-null   object\n",
      " 6   nondual_n            6334 non-null   object\n",
      " 7   child_n              6334 non-null   object\n",
      " 8   adult_n              6334 non-null   object\n",
      " 9   dual_recip_admit     6334 non-null   object\n",
      " 10  dual_admits          6334 non-null   object\n",
      " 11  nondual_recip_admit  6334 non-null   object\n",
      " 12  nondual_admits       6334 non-null   object\n",
      " 13  recip_admit          6334 non-null   object\n",
      " 14  total_admits         6334 non-null   object\n",
      " 15  dual_er_recip        6334 non-null   object\n",
      " 16  dual_er_visits       6334 non-null   object\n",
      " 17  nondual_er_recip     6334 non-null   object\n",
      " 18  nondual_er_visits    6334 non-null   object\n",
      " 19  all_er_recip         6334 non-null   object\n",
      " 20  all_er_visits        6334 non-null   object\n",
      "dtypes: object(21)\n",
      "memory usage: 1.0+ MB\n"
     ]
    }
   ],
   "source": [
    "medicare_df.info()"
   ]
  },
  {
   "cell_type": "code",
   "execution_count": 84,
   "id": "47612787",
   "metadata": {},
   "outputs": [],
   "source": [
    "for i in medicare_df:\n",
    "    try:\n",
    "        medicare_df[i]=medicare_df[i].astype(int)\n",
    "    except:\n",
    "        pass"
   ]
  },
  {
   "cell_type": "code",
   "execution_count": 85,
   "id": "4e00349a",
   "metadata": {},
   "outputs": [
    {
     "name": "stdout",
     "output_type": "stream",
     "text": [
      "<class 'pandas.core.frame.DataFrame'>\n",
      "RangeIndex: 6334 entries, 0 to 6333\n",
      "Data columns (total 21 columns):\n",
      " #   Column               Non-Null Count  Dtype \n",
      "---  ------               --------------  ----- \n",
      " 0   _id                  6334 non-null   object\n",
      " 1   year                 6334 non-null   int64 \n",
      " 2   zip_code             6334 non-null   int64 \n",
      " 3   county               6334 non-null   object\n",
      " 4   total_n              6334 non-null   int64 \n",
      " 5   dual_n               6334 non-null   int64 \n",
      " 6   nondual_n            6334 non-null   int64 \n",
      " 7   child_n              6334 non-null   int64 \n",
      " 8   adult_n              6334 non-null   int64 \n",
      " 9   dual_recip_admit     6334 non-null   int64 \n",
      " 10  dual_admits          6334 non-null   int64 \n",
      " 11  nondual_recip_admit  6334 non-null   int64 \n",
      " 12  nondual_admits       6334 non-null   int64 \n",
      " 13  recip_admit          6334 non-null   int64 \n",
      " 14  total_admits         6334 non-null   int64 \n",
      " 15  dual_er_recip        6334 non-null   int64 \n",
      " 16  dual_er_visits       6334 non-null   int64 \n",
      " 17  nondual_er_recip     6334 non-null   int64 \n",
      " 18  nondual_er_visits    6334 non-null   int64 \n",
      " 19  all_er_recip         6334 non-null   int64 \n",
      " 20  all_er_visits        6334 non-null   int64 \n",
      "dtypes: int64(19), object(2)\n",
      "memory usage: 1.0+ MB\n"
     ]
    }
   ],
   "source": [
    "medicare_df.info()"
   ]
  },
  {
   "cell_type": "code",
   "execution_count": 86,
   "id": "1664cd10",
   "metadata": {},
   "outputs": [],
   "source": [
    "# Bar chart of States in US vs Beneficiaries\n",
    "list1=[]\n",
    "list2=[]\n",
    "for i in medicare_df[\"county\"].unique():\n",
    "    list2.append(medicare_df[medicare_df[\"county\"]==i][\"total_n\"].mean())\n",
    "    list1.append(i)"
   ]
  },
  {
   "cell_type": "code",
   "execution_count": 18,
   "id": "4230d46c",
   "metadata": {},
   "outputs": [
    {
     "data": {
      "text/html": [
       "<div>\n",
       "<style scoped>\n",
       "    .dataframe tbody tr th:only-of-type {\n",
       "        vertical-align: middle;\n",
       "    }\n",
       "\n",
       "    .dataframe tbody tr th {\n",
       "        vertical-align: top;\n",
       "    }\n",
       "\n",
       "    .dataframe thead th {\n",
       "        text-align: right;\n",
       "    }\n",
       "</style>\n",
       "<table border=\"1\" class=\"dataframe\">\n",
       "  <thead>\n",
       "    <tr style=\"text-align: right;\">\n",
       "      <th></th>\n",
       "      <th>County</th>\n",
       "      <th>Total_benificiaries_Avg</th>\n",
       "    </tr>\n",
       "  </thead>\n",
       "  <tbody>\n",
       "    <tr>\n",
       "      <th>3</th>\n",
       "      <td>Bronx</td>\n",
       "      <td>33508.571429</td>\n",
       "    </tr>\n",
       "    <tr>\n",
       "      <th>10</th>\n",
       "      <td>Kings</td>\n",
       "      <td>24791.269231</td>\n",
       "    </tr>\n",
       "    <tr>\n",
       "      <th>6</th>\n",
       "      <td>Queens</td>\n",
       "      <td>12203.694561</td>\n",
       "    </tr>\n",
       "    <tr>\n",
       "      <th>2</th>\n",
       "      <td>Richmond</td>\n",
       "      <td>9569.714286</td>\n",
       "    </tr>\n",
       "    <tr>\n",
       "      <th>1</th>\n",
       "      <td>New York</td>\n",
       "      <td>4105.353425</td>\n",
       "    </tr>\n",
       "    <tr>\n",
       "      <th>...</th>\n",
       "      <td>...</td>\n",
       "      <td>...</td>\n",
       "    </tr>\n",
       "    <tr>\n",
       "      <th>60</th>\n",
       "      <td>Schuyler</td>\n",
       "      <td>349.404762</td>\n",
       "    </tr>\n",
       "    <tr>\n",
       "      <th>14</th>\n",
       "      <td>Greene</td>\n",
       "      <td>333.879630</td>\n",
       "    </tr>\n",
       "    <tr>\n",
       "      <th>23</th>\n",
       "      <td>Delaware</td>\n",
       "      <td>299.372727</td>\n",
       "    </tr>\n",
       "    <tr>\n",
       "      <th>28</th>\n",
       "      <td>Essex</td>\n",
       "      <td>279.902174</td>\n",
       "    </tr>\n",
       "    <tr>\n",
       "      <th>22</th>\n",
       "      <td>Hamilton</td>\n",
       "      <td>66.484848</td>\n",
       "    </tr>\n",
       "  </tbody>\n",
       "</table>\n",
       "<p>62 rows × 2 columns</p>\n",
       "</div>"
      ],
      "text/plain": [
       "      County  Total_benificiaries_Avg\n",
       "3      Bronx             33508.571429\n",
       "10     Kings             24791.269231\n",
       "6     Queens             12203.694561\n",
       "2   Richmond              9569.714286\n",
       "1   New York              4105.353425\n",
       "..       ...                      ...\n",
       "60  Schuyler               349.404762\n",
       "14    Greene               333.879630\n",
       "23  Delaware               299.372727\n",
       "28     Essex               279.902174\n",
       "22  Hamilton                66.484848\n",
       "\n",
       "[62 rows x 2 columns]"
      ]
     },
     "execution_count": 18,
     "metadata": {},
     "output_type": "execute_result"
    }
   ],
   "source": [
    "df=pd.DataFrame()\n",
    "df[\"County\"]=list1\n",
    "df[\"Total_benificiaries_Avg\"]=list2\n",
    "df=df.sort_values(by=\"Total_benificiaries_Avg\",ascending=False)\n",
    "df"
   ]
  },
  {
   "cell_type": "code",
   "execution_count": 19,
   "id": "964839f8",
   "metadata": {},
   "outputs": [
    {
     "data": {
      "text/plain": [
       "Text(0.5, 1.0, 'States in US vs Beneficiaries')"
      ]
     },
     "execution_count": 19,
     "metadata": {},
     "output_type": "execute_result"
    },
    {
     "data": {
      "image/png": "[encoded data removed]",
      "text/plain": [
       "<Figure size 720x360 with 1 Axes>"
      ]
     },
     "metadata": {
      "needs_background": "light"
     },
     "output_type": "display_data"
    }
   ],
   "source": [
    "fig = plt.figure(figsize = (10, 5))\n",
    "plt.bar(df[\"County\"][:5], df[\"Total_benificiaries_Avg\"][:5], width=0.8)\n",
    "\n",
    "plt.xlabel('States')\n",
    "plt.ylabel('Total Beneficiaries')\n",
    "\n",
    "plt.xticks(rotation=90)\n",
    "plt.title('States in US vs Beneficiaries')"
   ]
  },
  {
   "cell_type": "code",
   "execution_count": 20,
   "id": "5031b01c",
   "metadata": {},
   "outputs": [],
   "source": [
    "# Pie chart of Dual and Non-Dual Eligible vs Year"
   ]
  },
  {
   "cell_type": "code",
   "execution_count": 21,
   "id": "9e2a3948",
   "metadata": {},
   "outputs": [],
   "source": [
    "lst1=[]\n",
    "lst2=[]\n",
    "for i in medicare_df[\"Year\"].unique():\n",
    "    lst2.append(medicare_df[medicare_df[\"Year\"]==i][\"Dual Eligible Beneficiaries\"].mean())\n",
    "    lst1.append(i)"
   ]
  },
  {
   "cell_type": "code",
   "execution_count": 22,
   "id": "b804cbf4",
   "metadata": {},
   "outputs": [
    {
     "data": {
      "text/plain": [
       "[408.12743699476937, 417.2550875532418, 428.14542020774314]"
      ]
     },
     "execution_count": 22,
     "metadata": {},
     "output_type": "execute_result"
    }
   ],
   "source": [
    "lst2"
   ]
  },
  {
   "cell_type": "code",
   "execution_count": 23,
   "id": "97a337ce",
   "metadata": {},
   "outputs": [],
   "source": [
    "df1=pd.DataFrame()\n",
    "df1[\"Dual Eligible Beneficiaries\"] = lst1\n",
    "df1[\"Year\"] = lst2"
   ]
  },
  {
   "cell_type": "code",
   "execution_count": 65,
   "id": "436cf941",
   "metadata": {},
   "outputs": [
    {
     "data": {
      "image/png": "[encoded data removed]",
      "text/plain": [
       "<Figure size 432x288 with 1 Axes>"
      ]
     },
     "metadata": {},
     "output_type": "display_data"
    }
   ],
   "source": [
    "colors = ['r','y','g']\n",
    "Year = ['2012','2013','2014']\n",
    "plt.title(\"Dual Eligible Beneficiaries\")\n",
    "plt.pie(df1[\"Dual Eligible Beneficiaries\"], labels = Year, colors=colors, startangle=90, shadow=True, radius = 1.2, \n",
    "          explode = (0,0,0.1), autopct = '%1.2f%%')\n",
    "#plt.legend()\n",
    "plt.show()"
   ]
  },
  {
   "cell_type": "code",
   "execution_count": 25,
   "id": "c8f57236",
   "metadata": {},
   "outputs": [],
   "source": [
    "lst1=[]\n",
    "lst2=[]\n",
    "for i in medicare_df[\"Year\"].unique():\n",
    "    lst2.append(medicare_df[medicare_df[\"Year\"]==i][\"Non Dual Beneficiaries\"].mean())\n",
    "    lst1.append(i)"
   ]
  },
  {
   "cell_type": "code",
   "execution_count": 26,
   "id": "81c54a33",
   "metadata": {},
   "outputs": [
    {
     "data": {
      "text/plain": [
       "[2012, 2013, 2014]"
      ]
     },
     "execution_count": 26,
     "metadata": {},
     "output_type": "execute_result"
    }
   ],
   "source": [
    "lst1"
   ]
  },
  {
   "cell_type": "code",
   "execution_count": 27,
   "id": "f1e77053",
   "metadata": {},
   "outputs": [
    {
     "data": {
      "text/plain": [
       "[2375.9191631003328, 2451.1481306199717, 2734.11567516525]"
      ]
     },
     "execution_count": 27,
     "metadata": {},
     "output_type": "execute_result"
    }
   ],
   "source": [
    "lst2"
   ]
  },
  {
   "cell_type": "code",
   "execution_count": 28,
   "id": "de2f1964",
   "metadata": {},
   "outputs": [],
   "source": [
    "df2=pd.DataFrame()\n",
    "df2[\"Non Dual Beneficiaries\"] = lst1\n",
    "df2[\"Year\"] = lst2"
   ]
  },
  {
   "cell_type": "code",
   "execution_count": 67,
   "id": "817c00a3",
   "metadata": {},
   "outputs": [
    {
     "data": {
      "image/png": "[encoded data removed]",
      "text/plain": [
       "<Figure size 432x288 with 1 Axes>"
      ]
     },
     "metadata": {},
     "output_type": "display_data"
    }
   ],
   "source": [
    "colors = ['r','y','g']\n",
    "Year = ['2012','2013','2014']\n",
    "plt.title(\"Non Dual Eligible Beneficiaries\")\n",
    "plt.pie(df2[\"Non Dual Beneficiaries\"], labels = Year, colors=colors, startangle=90, shadow=True, radius = 1.2, \n",
    "       explode = (0,0,0.1), autopct = '%1.2f%%')\n",
    "#plt.legend()\n",
    "plt.show()"
   ]
  },
  {
   "cell_type": "code",
   "execution_count": 37,
   "id": "7164003d",
   "metadata": {},
   "outputs": [],
   "source": [
    "# Bar chart of States in US vs Dual Beneficiaries ER Visits\n",
    "list3=[]\n",
    "list4=[]\n",
    "for i in medicare_df[\"County\"].unique():\n",
    "    list4.append(medicare_df[medicare_df[\"County\"]==i][\"Dual Beneficiaries ER Visits\"].mean())\n",
    "    list3.append(i)"
   ]
  },
  {
   "cell_type": "code",
   "execution_count": 42,
   "id": "637941b2",
   "metadata": {},
   "outputs": [],
   "source": [
    "df3=pd.DataFrame()\n",
    "df3[\"County\"] = list3\n",
    "df3[\"Dual_Beneficiaries_ER_Visits_Avg\"] = list4\n",
    "df3=df3.sort_values(by=\"Dual_Beneficiaries_ER_Visits_Avg\",ascending=False)"
   ]
  },
  {
   "cell_type": "code",
   "execution_count": 43,
   "id": "4aba2f6a",
   "metadata": {},
   "outputs": [
    {
     "data": {
      "text/html": [
       "<div>\n",
       "<style scoped>\n",
       "    .dataframe tbody tr th:only-of-type {\n",
       "        vertical-align: middle;\n",
       "    }\n",
       "\n",
       "    .dataframe tbody tr th {\n",
       "        vertical-align: top;\n",
       "    }\n",
       "\n",
       "    .dataframe thead th {\n",
       "        text-align: right;\n",
       "    }\n",
       "</style>\n",
       "<table border=\"1\" class=\"dataframe\">\n",
       "  <thead>\n",
       "    <tr style=\"text-align: right;\">\n",
       "      <th></th>\n",
       "      <th>County</th>\n",
       "      <th>Dual_Beneficiaries_ER_Visits_Avg</th>\n",
       "    </tr>\n",
       "  </thead>\n",
       "  <tbody>\n",
       "    <tr>\n",
       "      <th>3</th>\n",
       "      <td>Bronx</td>\n",
       "      <td>1188.883117</td>\n",
       "    </tr>\n",
       "    <tr>\n",
       "      <th>10</th>\n",
       "      <td>Kings</td>\n",
       "      <td>713.115385</td>\n",
       "    </tr>\n",
       "    <tr>\n",
       "      <th>2</th>\n",
       "      <td>Richmond</td>\n",
       "      <td>449.547619</td>\n",
       "    </tr>\n",
       "    <tr>\n",
       "      <th>6</th>\n",
       "      <td>Queens</td>\n",
       "      <td>316.702929</td>\n",
       "    </tr>\n",
       "    <tr>\n",
       "      <th>55</th>\n",
       "      <td>Monroe</td>\n",
       "      <td>309.554878</td>\n",
       "    </tr>\n",
       "    <tr>\n",
       "      <th>...</th>\n",
       "      <td>...</td>\n",
       "      <td>...</td>\n",
       "    </tr>\n",
       "    <tr>\n",
       "      <th>14</th>\n",
       "      <td>Greene</td>\n",
       "      <td>19.814815</td>\n",
       "    </tr>\n",
       "    <tr>\n",
       "      <th>45</th>\n",
       "      <td>Tioga</td>\n",
       "      <td>19.738095</td>\n",
       "    </tr>\n",
       "    <tr>\n",
       "      <th>50</th>\n",
       "      <td>Wyoming</td>\n",
       "      <td>15.649123</td>\n",
       "    </tr>\n",
       "    <tr>\n",
       "      <th>42</th>\n",
       "      <td>Lewis</td>\n",
       "      <td>12.260000</td>\n",
       "    </tr>\n",
       "    <tr>\n",
       "      <th>22</th>\n",
       "      <td>Hamilton</td>\n",
       "      <td>1.757576</td>\n",
       "    </tr>\n",
       "  </tbody>\n",
       "</table>\n",
       "<p>62 rows × 2 columns</p>\n",
       "</div>"
      ],
      "text/plain": [
       "      County  Dual_Beneficiaries_ER_Visits_Avg\n",
       "3      Bronx                       1188.883117\n",
       "10     Kings                        713.115385\n",
       "2   Richmond                        449.547619\n",
       "6     Queens                        316.702929\n",
       "55    Monroe                        309.554878\n",
       "..       ...                               ...\n",
       "14    Greene                         19.814815\n",
       "45     Tioga                         19.738095\n",
       "50   Wyoming                         15.649123\n",
       "42     Lewis                         12.260000\n",
       "22  Hamilton                          1.757576\n",
       "\n",
       "[62 rows x 2 columns]"
      ]
     },
     "execution_count": 43,
     "metadata": {},
     "output_type": "execute_result"
    }
   ],
   "source": [
    "df3"
   ]
  },
  {
   "cell_type": "code",
   "execution_count": 48,
   "id": "356e49cd",
   "metadata": {},
   "outputs": [
    {
     "data": {
      "text/plain": [
       "Text(0.5, 1.0, 'States in US vs Dual Beneficiaries ER Visits')"
      ]
     },
     "execution_count": 48,
     "metadata": {},
     "output_type": "execute_result"
    },
    {
     "data": {
      "image/png": "[encoded data removed]",
      "text/plain": [
       "<Figure size 720x360 with 1 Axes>"
      ]
     },
     "metadata": {
      "needs_background": "light"
     },
     "output_type": "display_data"
    }
   ],
   "source": [
    "fig1 = plt.figure(figsize = (10, 5))\n",
    "plt.bar(df3[\"County\"][:10], df3[\"Dual_Beneficiaries_ER_Visits_Avg\"][:10], width=0.8)\n",
    "\n",
    "plt.xlabel('States')\n",
    "plt.ylabel('Dual Beneficiaries ER Visits')\n",
    "\n",
    "plt.xticks(rotation=90)\n",
    "plt.title('States in US vs Dual Beneficiaries ER Visits')"
   ]
  },
  {
   "cell_type": "code",
   "execution_count": 49,
   "id": "b4ed5094",
   "metadata": {},
   "outputs": [],
   "source": [
    "# Bar chart of States in US vs Non-Dual Beneficiaries ER Visits\n",
    "list5=[]\n",
    "list6=[]\n",
    "for i in medicare_df[\"County\"].unique():\n",
    "    list5.append(medicare_df[medicare_df[\"County\"]==i][\"Non Dual Beneficiaries ER Visits\"].mean())\n",
    "    list6.append(i)"
   ]
  },
  {
   "cell_type": "code",
   "execution_count": 58,
   "id": "174120c3",
   "metadata": {},
   "outputs": [
    {
     "data": {
      "text/html": [
       "<div>\n",
       "<style scoped>\n",
       "    .dataframe tbody tr th:only-of-type {\n",
       "        vertical-align: middle;\n",
       "    }\n",
       "\n",
       "    .dataframe tbody tr th {\n",
       "        vertical-align: top;\n",
       "    }\n",
       "\n",
       "    .dataframe thead th {\n",
       "        text-align: right;\n",
       "    }\n",
       "</style>\n",
       "<table border=\"1\" class=\"dataframe\">\n",
       "  <thead>\n",
       "    <tr style=\"text-align: right;\">\n",
       "      <th></th>\n",
       "      <th>County</th>\n",
       "      <th>Non_Dual_Beneficiaries_ER_Visits_Avg</th>\n",
       "    </tr>\n",
       "  </thead>\n",
       "  <tbody>\n",
       "    <tr>\n",
       "      <th>3</th>\n",
       "      <td>Bronx</td>\n",
       "      <td>17325.142857</td>\n",
       "    </tr>\n",
       "    <tr>\n",
       "      <th>10</th>\n",
       "      <td>Kings</td>\n",
       "      <td>8550.935897</td>\n",
       "    </tr>\n",
       "    <tr>\n",
       "      <th>2</th>\n",
       "      <td>Richmond</td>\n",
       "      <td>4142.880952</td>\n",
       "    </tr>\n",
       "    <tr>\n",
       "      <th>6</th>\n",
       "      <td>Queens</td>\n",
       "      <td>4122.849372</td>\n",
       "    </tr>\n",
       "    <tr>\n",
       "      <th>1</th>\n",
       "      <td>New York</td>\n",
       "      <td>2004.120548</td>\n",
       "    </tr>\n",
       "    <tr>\n",
       "      <th>...</th>\n",
       "      <td>...</td>\n",
       "      <td>...</td>\n",
       "    </tr>\n",
       "    <tr>\n",
       "      <th>19</th>\n",
       "      <td>Schoharie</td>\n",
       "      <td>165.350877</td>\n",
       "    </tr>\n",
       "    <tr>\n",
       "      <th>50</th>\n",
       "      <td>Wyoming</td>\n",
       "      <td>157.894737</td>\n",
       "    </tr>\n",
       "    <tr>\n",
       "      <th>28</th>\n",
       "      <td>Essex</td>\n",
       "      <td>152.782609</td>\n",
       "    </tr>\n",
       "    <tr>\n",
       "      <th>14</th>\n",
       "      <td>Greene</td>\n",
       "      <td>121.277778</td>\n",
       "    </tr>\n",
       "    <tr>\n",
       "      <th>22</th>\n",
       "      <td>Hamilton</td>\n",
       "      <td>14.333333</td>\n",
       "    </tr>\n",
       "  </tbody>\n",
       "</table>\n",
       "<p>62 rows × 2 columns</p>\n",
       "</div>"
      ],
      "text/plain": [
       "       County  Non_Dual_Beneficiaries_ER_Visits_Avg\n",
       "3       Bronx                          17325.142857\n",
       "10      Kings                           8550.935897\n",
       "2    Richmond                           4142.880952\n",
       "6      Queens                           4122.849372\n",
       "1    New York                           2004.120548\n",
       "..        ...                                   ...\n",
       "19  Schoharie                            165.350877\n",
       "50    Wyoming                            157.894737\n",
       "28      Essex                            152.782609\n",
       "14     Greene                            121.277778\n",
       "22   Hamilton                             14.333333\n",
       "\n",
       "[62 rows x 2 columns]"
      ]
     },
     "execution_count": 58,
     "metadata": {},
     "output_type": "execute_result"
    }
   ],
   "source": [
    "df4=pd.DataFrame()\n",
    "df4[\"County\"] = list6\n",
    "df4[\"Non_Dual_Beneficiaries_ER_Visits_Avg\"] = list5\n",
    "df4=df4.sort_values(by=\"Non_Dual_Beneficiaries_ER_Visits_Avg\",ascending=False)\n",
    "df4"
   ]
  },
  {
   "cell_type": "code",
   "execution_count": 59,
   "id": "6cd94089",
   "metadata": {},
   "outputs": [
    {
     "data": {
      "text/plain": [
       "Text(0.5, 1.0, 'States in US vs Non Dual Beneficiaries ER Visits')"
      ]
     },
     "execution_count": 59,
     "metadata": {},
     "output_type": "execute_result"
    },
    {
     "data": {
      "image/png": "[encoded data removed]",
      "text/plain": [
       "<Figure size 720x360 with 1 Axes>"
      ]
     },
     "metadata": {
      "needs_background": "light"
     },
     "output_type": "display_data"
    }
   ],
   "source": [
    "fig2 = plt.figure(figsize = (10, 5))\n",
    "plt.bar(df4[\"County\"][:10], df4[\"Non_Dual_Beneficiaries_ER_Visits_Avg\"][:10], width=0.8)\n",
    "\n",
    "plt.xlabel('States')\n",
    "plt.ylabel('Non Dual Beneficiaries ER Visits')\n",
    "\n",
    "plt.xticks(rotation=90)\n",
    "plt.title('States in US vs Non Dual Beneficiaries ER Visits')"
   ]
  }
 ],
 "metadata": {
  "kernelspec": {
   "display_name": "Python 3 (ipykernel)",
   "language": "python",
   "name": "python3"
  },
  "language_info": {
   "codemirror_mode": {
    "name": "ipython",
    "version": 3
   },
   "file_extension": ".py",
   "mimetype": "text/x-python",
   "name": "python",
   "nbconvert_exporter": "python",
   "pygments_lexer": "ipython3",
   "version": "3.9.12"
  }
 },
 "nbformat": 4,
 "nbformat_minor": 5
}
